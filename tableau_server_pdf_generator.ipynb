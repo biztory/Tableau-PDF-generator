{
 "metadata": {
  "language_info": {
   "codemirror_mode": {
    "name": "ipython",
    "version": 3
   },
   "file_extension": ".py",
   "mimetype": "text/x-python",
   "name": "python",
   "nbconvert_exporter": "python",
   "pygments_lexer": "ipython3",
   "version": "3.9.4-final"
  },
  "orig_nbformat": 2,
  "kernelspec": {
   "name": "python394jvsc74a57bd0a1d3fdebe82c2384fc8509fe2e0bc8d4743be06b11c3a809f5ca58b11ecf5acb",
   "display_name": "Python 3.9.4 64-bit"
  }
 },
 "nbformat": 4,
 "nbformat_minor": 2,
 "cells": [
  {
   "source": [
    "# Python Script to create PDF from dashboard based on parameters\n",
    "## Importing libraries and features"
   ],
   "cell_type": "markdown",
   "metadata": {}
  },
  {
   "cell_type": "code",
   "execution_count": 1,
   "metadata": {},
   "outputs": [],
   "source": [
    "import os, keyring, re, configparser, warnings, urllib, requests, shutil, json\n",
    "from fpdf import FPDF\n",
    "import datetime\n",
    "from getpass import getpass\n",
    "from pathlib import Path\n",
    "warnings.filterwarnings('ignore')\n",
    "config = configparser.ConfigParser()\n",
    "config.read(r\".\\tableau_server_pdf_generator.cfg\")\n",
    "illegal_chars = config[\"logging_details\"][\"illegalchars\"].split(',')"
   ]
  },
  {
   "source": [
    "## Open Log file"
   ],
   "cell_type": "markdown",
   "metadata": {}
  },
  {
   "cell_type": "code",
   "execution_count": 2,
   "metadata": {},
   "outputs": [],
   "source": [
    "log_file_loc = r\"{}\\{}\".format(str(Path.home()), config[\"logging_details\"][\"logfilename\"])\n",
    "log_file = open(log_file_loc, \"a+\")"
   ]
  },
  {
   "source": [
    "## Functions\n",
    "### Fn to check errors"
   ],
   "cell_type": "markdown",
   "metadata": {}
  },
  {
   "cell_type": "code",
   "execution_count": 3,
   "metadata": {},
   "outputs": [],
   "source": [
    "def check_error(request, task):\n",
    "    if task == \"sign_in\":\n",
    "        if request.status_code == 200:\n",
    "            print(\"\\t\\tUser signed in successfully!\")\n",
    "            return 1\n",
    "        elif request.status_code == 404:\n",
    "            print(\"\\t\\tERROR: User not found!!\")\n",
    "            return 0\n",
    "        elif request.status_code == 401:\n",
    "            print(\"\\t\\tERROR: Login error!!\")\n",
    "            return 0\n",
    "        else:\n",
    "            print(\"\\t\\tERROR: Request error check again!!\")\n",
    "            return 0\n",
    "        \n",
    "    elif task == \"sign_out\":\n",
    "        if request.status_code == 204:\n",
    "            print(\"\\t\\tUser signed out successfully!\")\n",
    "            return 1\n",
    "        else:\n",
    "            print(\"\\t\\tERROR: Request error check again!!\")\n",
    "            return 0\n",
    "        \n",
    "    elif task == \"create_users\":\n",
    "        if request.status_code == 201:\n",
    "            print(\"\\t\\tUser created successfully!\")\n",
    "            return 1\n",
    "        elif request.status_code == 404:\n",
    "            print(\"\\t\\tERROR: Site not found!!\")\n",
    "            return 0\n",
    "        elif request.status_code == 409:\n",
    "            print(\"\\t\\tERROR: User exists or license unavailable, check again!!\")\n",
    "            return 0\n",
    "        elif request.status_code == 400:\n",
    "            print(\"\\t\\tERROR: Invalid site role or bad request!!\")\n",
    "            return 0\n",
    "        else:\n",
    "            print(\"\\t\\tERROR: Request error check again!!\")\n",
    "            return 0\n",
    "        \n",
    "    elif task == \"update_users\":\n",
    "        if request.status_code == 200:\n",
    "            print(\"\\t\\tUser information updated successfully!\")\n",
    "            return 1\n",
    "        elif request.status_code == 404:\n",
    "            print(\"\\t\\tERROR: User or Site not found!!\")\n",
    "            return 0\n",
    "        elif request.status_code == 409:\n",
    "            print(\"\\t\\tERROR: User exists or license unavailable, check again!!\")\n",
    "            return 0\n",
    "        elif request.status_code == 400:\n",
    "            print(\"\\t\\tERROR: Invalid site role, email address or bad request!!\")\n",
    "            return 0\n",
    "        elif request.status_code == 403:\n",
    "            print(\"\\t\\tERROR: Licensing update on self or guest account not allowed!!\")\n",
    "            return 0\n",
    "        else:\n",
    "            print(\"\\t\\tERROR: Request error check again!!\")\n",
    "            return 0\n",
    "        \n",
    "    elif task == \"find_group_id\":\n",
    "        if request.status_code == 200:\n",
    "            print(\"\\t\\tGroup found!\")\n",
    "            return 1\n",
    "        elif request.status_code == 404:\n",
    "            print(\"\\t\\tERROR: Site not found!!\")\n",
    "            return 0\n",
    "        else:\n",
    "            print(\"\\t\\tERROR: Request error check again!!\")\n",
    "            return 0\n",
    "        \n",
    "    elif task == \"add_user_group\":\n",
    "        if request.status_code == 200:\n",
    "            print(\"\\t\\tUser added to group successfully!\")\n",
    "            return 1\n",
    "        elif request.status_code == 404:\n",
    "            print(\"\\t\\tERROR: Site or Group not found!!\")\n",
    "            return 0\n",
    "        elif request.status_code == 409:\n",
    "            print(\"\\t\\tERROR: Specified User already in group!!\")\n",
    "            return 0\n",
    "        else:\n",
    "            print(\"\\t\\tERROR: Request error check again!!\")\n",
    "            return 0\n",
    "    elif task == \"query_workbooks_site\":\n",
    "        if request.status_code == 200:\n",
    "            print(\"\\t\\tQueried workbook name successfully!\")\n",
    "            return 1\n",
    "        elif request.status_code == 400:\n",
    "            print(\"\\t\\tERROR: Pagination error!!\")\n",
    "            return \n",
    "        elif request.status_code == 403:\n",
    "            print(\"\\t\\tERROR: Forbidden to read workbook!!\")\n",
    "            return 0\n",
    "        elif request.status_code == 404:\n",
    "            print(\"\\t\\tERROR: Site or workbook not found!!\")\n",
    "            return 0\n",
    "        else:\n",
    "            print(\"\\t\\tERROR: Request error check again!!\")\n",
    "            return 0\n",
    "    elif task == \"query_view_image\":\n",
    "        if request.status_code == 200:\n",
    "            print(\"\\t\\tQueried view image successfully!\")\n",
    "            return 1\n",
    "        elif request.status_code == 403:\n",
    "            print(\"\\t\\tERROR: Forbidden to view image!!\")\n",
    "            return 0\n",
    "        elif request.status_code == 404:\n",
    "            print(\"\\t\\tERROR: Site, workbook or view not found!!\")\n",
    "            return 0\n",
    "        else:\n",
    "            print(\"\\t\\tERROR: Request error check again!!\")\n",
    "            return 0\n",
    "    elif task == \"query_view_data\":\n",
    "        if request.status_code == 200:\n",
    "            print(\"\\t\\tQueried view data successfully!\")\n",
    "            return 1\n",
    "        elif request.status_code == 401:\n",
    "            print(\"\\t\\tERROR: Invalid token!!\")\n",
    "            return 0\n",
    "        elif request.status_code == 403:\n",
    "            print(\"\\t\\tERROR: Forbidden to view data!!\")\n",
    "            return 0\n",
    "        elif request.status_code == 404:\n",
    "            print(\"\\t\\tERROR: Site, workbook or view not found!!\")\n",
    "            return 0\n",
    "        else:\n",
    "            print(\"\\t\\tERROR: Request error check again!!\")\n",
    "            return 0"
   ]
  },
  {
   "source": [
    "### Fn to sign in to Server with a password"
   ],
   "cell_type": "markdown",
   "metadata": {}
  },
  {
   "cell_type": "code",
   "execution_count": 4,
   "metadata": {},
   "outputs": [],
   "source": [
    "def sign_in(username, password, site=\"\"):\n",
    "    body = {\n",
    "        \"credentials\": {\n",
    "            \"name\": username,\n",
    "            \"password\": password,\n",
    "            \"site\": {\n",
    "                \"contentUrl\": site\n",
    "            }\n",
    "        }\n",
    "    }\n",
    "    response = requests.post(\n",
    "        URL + '/auth/signin', \n",
    "        json=body, \n",
    "        verify=False, \n",
    "        headers={'Accept': 'application/json'}\n",
    "    )\n",
    "    \n",
    "    status = check_error(response, \"sign_in\")\n",
    "    if status:\n",
    "        return response.json()['credentials']['site']['id'], response.json()['credentials']['token']\n",
    "    else:\n",
    "        return 0,0"
   ]
  },
  {
   "source": [
    "### Fn to sign in to Server with a PAT"
   ],
   "cell_type": "markdown",
   "metadata": {}
  },
  {
   "cell_type": "code",
   "execution_count": 5,
   "metadata": {},
   "outputs": [],
   "source": [
    "def sign_in_pat(username, password, site=\"\"):\n",
    "    body = {\n",
    "        \"credentials\": {\n",
    "            \"personalAccessTokenName\": username,\n",
    "            \"personalAccessTokenSecret\": password,\n",
    "            \"site\": {\n",
    "                \"contentUrl\": site\n",
    "            }\n",
    "        }\n",
    "    }\n",
    "    response = requests.post(\n",
    "        URL + '/auth/signin', \n",
    "        json=body, \n",
    "        verify=False, \n",
    "        headers={'Accept': 'application/json'}\n",
    "    )\n",
    "    \n",
    "    status = check_error(response, \"sign_in\")\n",
    "    if status:\n",
    "        return response.json()['credentials']['site']['id'], response.json()['credentials']['token']\n",
    "    else:\n",
    "        return 0,0"
   ]
  },
  {
   "source": [
    "### Fn to sign out from Server"
   ],
   "cell_type": "markdown",
   "metadata": {}
  },
  {
   "cell_type": "code",
   "execution_count": 6,
   "metadata": {},
   "outputs": [],
   "source": [
    "def sign_out(site_id, token):\n",
    "    response = requests.post(\n",
    "        URL + '/auth/signout', \n",
    "        verify=False, \n",
    "        headers={'Accept': 'application/json',\n",
    "                'X-Tableau-Auth': token}\n",
    "    )\n",
    "    status = check_error(response, \"sign_out\")\n",
    "    return status"
   ]
  },
  {
   "source": [
    "### Fn to find workbook id"
   ],
   "cell_type": "markdown",
   "metadata": {}
  },
  {
   "cell_type": "code",
   "execution_count": 7,
   "metadata": {},
   "outputs": [],
   "source": [
    "def query_workbooks_site(site_id, token, workbook_name):\n",
    "    response = requests.get(\n",
    "        URL + '/sites/{}/workbooks?filter=name:eq:{}'.format(site_id, workbook_name), \n",
    "        verify=False, \n",
    "        headers={'Accept': 'application/json',\n",
    "                'X-Tableau-Auth': token}\n",
    "    )\n",
    "    status = check_error(response, \"query_workbooks_site\")\n",
    "    return response.json()"
   ]
  },
  {
   "source": [
    "### Fn to generate list of views"
   ],
   "cell_type": "markdown",
   "metadata": {}
  },
  {
   "cell_type": "code",
   "execution_count": 8,
   "metadata": {},
   "outputs": [],
   "source": [
    "def gen_views_list(views_list):\n",
    "    temp_views = views_list.split(',')\n",
    "    views = []\n",
    "    for item in temp_views:\n",
    "        view_name = (item.lstrip()).rstrip()\n",
    "        views.append(view_name)\n",
    "    return views"
   ]
  },
  {
   "source": [
    "### Fn to find view id"
   ],
   "cell_type": "markdown",
   "metadata": {}
  },
  {
   "cell_type": "code",
   "execution_count": 9,
   "metadata": {},
   "outputs": [],
   "source": [
    "def query_workbook(site_id, token, workbook_id, views_list):\n",
    "    response = requests.get(\n",
    "        URL + '/sites/{}/workbooks/{}'.format(site_id, workbook_id), \n",
    "        verify=False, \n",
    "        headers={'Accept': 'application/json',\n",
    "                'X-Tableau-Auth': token}\n",
    "    )\n",
    "    view_ids = []\n",
    "    for view in response.json()['workbook']['views']['view']:\n",
    "        if view['name'] in views_list:\n",
    "            view_ids.append(view['id'])\n",
    "    status = check_error(response, \"query_workbook\")\n",
    "    return view_ids, status"
   ]
  },
  {
   "cell_type": "code",
   "execution_count": 10,
   "metadata": {},
   "outputs": [],
   "source": [
    "### Fn to query view image"
   ]
  },
  {
   "cell_type": "code",
   "execution_count": 11,
   "metadata": {},
   "outputs": [],
   "source": [
    "def query_view_image(site_id, token, view_id, filtername, filtervalue, filename, applyfilter, week_number):\n",
    "    if applyfilter:\n",
    "        response = requests.get(\n",
    "            URL + '/sites/{}/views/{}/image?maxAge=1&vf_{}={}&vf_WeekDescr=Week+{}'.format(site_id, view_id, urllib.parse.quote_plus(filtername), urllib.parse.quote_plus(filtervalue), week_number), \n",
    "            stream=True, verify=False, \n",
    "            headers={'Accept': 'application/json',\n",
    "                    'X-Tableau-Auth': token}\n",
    "        )\n",
    "    else:\n",
    "        response = requests.get(\n",
    "            URL + '/sites/{}/views/{}/image?maxAge=1'.format(site_id, view_id, week_number), \n",
    "            stream=True, verify=False, \n",
    "            headers={'Accept': 'application/json',\n",
    "                    'X-Tableau-Auth': token}\n",
    "        )\n",
    "\n",
    "    status = check_error(response, \"query_view_image\")\n",
    "    with open(filename, 'wb') as f:\n",
    "        for chunk in response:\n",
    "            f.write(chunk)\n",
    "    return status"
   ]
  },
  {
   "source": [
    "### Fn to query view data"
   ],
   "cell_type": "markdown",
   "metadata": {}
  },
  {
   "cell_type": "code",
   "execution_count": 12,
   "metadata": {},
   "outputs": [],
   "source": [
    "def query_view_data(site_id, token, view_id):\n",
    "    response = requests.get(\n",
    "        URL + '/sites/{}/views/{}/data'.format(site_id, view_id), \n",
    "        verify=False, \n",
    "        headers={'Accept': 'application/json',\n",
    "                'X-Tableau-Auth': token}\n",
    "    ).text.splitlines()\n",
    "    response.remove(response[0])\n",
    "    #status = check_error(response, \"query_view_data\")\n",
    "    return response"
   ]
  },
  {
   "cell_type": "code",
   "execution_count": 13,
   "metadata": {},
   "outputs": [],
   "source": [
    "### Fn to generate pdf with images"
   ]
  },
  {
   "cell_type": "code",
   "execution_count": 14,
   "metadata": {},
   "outputs": [],
   "source": [
    "def gen_pdf(filter_value_name, week_number, file_loc, datepart_filename, num_views):\n",
    "    print(\"Developing PDF for {}...\".format(filter_value_name))\n",
    "    for chars in illegal_chars:\n",
    "        filter_value_name = filter_value_name.replace(chars, '#')\n",
    "    pdf = FPDF(orientation = 'L', unit = 'mm', format = 'A4')\n",
    "    pdf.set_left_margin(8)\n",
    "    for count in range(1,num_views):\n",
    "        pdf.add_page()\n",
    "        pdf.image(r'{}\\temp_{}.png'.format(file_loc, count), x=8, y=8, w=282)\n",
    "        \n",
    "    filename = r'{}\\{}-{}.pdf'.format(file_loc, datepart_filename, filter_value_name)\n",
    "    pdf.output(filename)\n",
    "    print(\"Saved pdf for filter_value {} as {}\".format(filter_value_name, filename))\n",
    "    current_timestamp = datetime.datetime.now().strftime(\"%Y-%m-%d %H:%M:%S\")\n",
    "    log_file.write(\"\\n{} Saved pdf for Week {} for filter_value {}!\".format(current_timestamp, week_number, filter_value_name))"
   ]
  },
  {
   "source": [
    "### Fn to iterate over views and save images"
   ],
   "cell_type": "markdown",
   "metadata": {}
  },
  {
   "cell_type": "code",
   "execution_count": 28,
   "metadata": {},
   "outputs": [],
   "source": [
    "def iterate_views_unfiltered(site_id, token, view_ids, week_number, file_loc, datepart_filename):\n",
    "    run = True\n",
    "    attempt = 0\n",
    "    while (run == True):\n",
    "        count = 1\n",
    "        for view in view_ids:\n",
    "            apply_filter = False\n",
    "            view_image_code = query_view_image(site_id, token, view, '', '',r\"{}\\temp_{}.png\".format(file_loc, count), False, week_number)\n",
    "            count+=1\n",
    "            if (view_image_code == 1):\n",
    "                run = False\n",
    "                attempt+=1\n",
    "            else:\n",
    "                if attempt > 3:\n",
    "                    run = False\n",
    "                else:\n",
    "                    run = True\n",
    "                    attempt+=1\n",
    "                    break\n",
    "        \n",
    "    gen_pdf('All', week_number, file_loc, datepart_filename, count)"
   ]
  },
  {
   "source": [
    "### Fn to iterate over views apply filters and save images"
   ],
   "cell_type": "markdown",
   "metadata": {}
  },
  {
   "cell_type": "code",
   "execution_count": 16,
   "metadata": {},
   "outputs": [],
   "source": [
    "def iterate_views_filtered(site_id, token, view_ids, apply_filter_list, filter_value_list, week_number, file_loc, datepart_filename):\n",
    "    for filter_value in filter_value_list:\n",
    "        print(\"\\n\\nBeginning to retrieve dashboards for {}\".format(filter_value))\n",
    "        run = True\n",
    "        attempt = 0\n",
    "        while (run == True):\n",
    "            count = 1\n",
    "            for view in view_ids:\n",
    "                if (view in apply_filter_list):\n",
    "                    apply_filter = True\n",
    "                    view_image_code = query_view_image(site_id, token, view, config[\"workbook_details\"][\"filtername\"], filter_value,r\"{}\\temp_{}.png\".format(file_loc, count), apply_filter, week_number)\n",
    "                    count+=1\n",
    "                    if (view_image_code == 1):\n",
    "                        run = False\n",
    "                        attempt+=1\n",
    "                    else:\n",
    "                        if attempt > 3:\n",
    "                            run = False\n",
    "                        else:\n",
    "                            run = True\n",
    "                            attempt+=1\n",
    "                            break\n",
    "\n",
    "                else:\n",
    "                    apply_filter = False\n",
    "                    view_image_code = query_view_image(site_id, token, view, config[\"workbook_details\"][\"filtername\"], filter_value,r\"{}\\temp_{}.png\".format(file_loc, count), apply_filter, week_number)\n",
    "                    count+=1\n",
    "                    if (view_image_code == 1):\n",
    "                        run = False\n",
    "                        attempt+=1\n",
    "                    else:\n",
    "                        if attempt > 3:\n",
    "                            run = False\n",
    "                        else:\n",
    "                            run = True\n",
    "                            attempt+=1\n",
    "                            break\n",
    "\n",
    "        gen_pdf(filter_value, week_number, file_loc, datepart_filename, count)"
   ]
  },
  {
   "source": [
    "### Fn to parse out filter_value list from view"
   ],
   "cell_type": "markdown",
   "metadata": {}
  },
  {
   "cell_type": "code",
   "execution_count": 17,
   "metadata": {},
   "outputs": [],
   "source": [
    "def parse_filter_list(site_id, token, filter_value_workbook, filter_value_view):\n",
    "    filter_value_workbook_response = query_workbooks_site(site_id, token, urllib.parse.quote_plus(filter_value_workbook))\n",
    "    filter_value_view_id = query_workbook(site_id, token, filter_value_workbook_response['workbooks']['workbook'][0]['id'], gen_views_list(filter_value_view))[0]\n",
    "    filter_value_list = query_view_data(site_id, token, filter_value_view_id[0])\n",
    "    return filter_value_list"
   ]
  },
  {
   "source": [
    "### Fn to find year and week number"
   ],
   "cell_type": "markdown",
   "metadata": {}
  },
  {
   "cell_type": "code",
   "execution_count": 18,
   "metadata": {},
   "outputs": [],
   "source": [
    "def create_date_filename():\n",
    "    week = int(datetime.date.today().strftime(\"%V\"))\n",
    "    if week == 1:\n",
    "        week = 52\n",
    "        year = int(datetime.date.today().strftime(\"%Y\"))-1\n",
    "        date_part_filename = {}\n",
    "    else:\n",
    "        week-=1\n",
    "        year = int(datetime.date.today().strftime(\"%Y\"))\n",
    "    return \"{}{}\".format(year, week)\n"
   ]
  },
  {
   "source": [
    "### Fn to create a string with filter_value list to place in configuration file"
   ],
   "cell_type": "markdown",
   "metadata": {}
  },
  {
   "cell_type": "code",
   "execution_count": 19,
   "metadata": {},
   "outputs": [],
   "source": [
    "def filter_filter_value_string(filter_value_filename):\n",
    "    filter_list = open(filter_value_filename,'r')\n",
    "    filter_values = filter_list.readlines()\n",
    "    filter_values_str = \"\"\n",
    "    for filter in filter_values:\n",
    "        temp = filter.split(\"\\t\")\n",
    "        temp[0] = temp[0].lstrip()\n",
    "        temp[0] = temp[0].rstrip()\n",
    "        temp[0] = '\"{}\"'.format(temp[0])\n",
    "        temp[1] = temp[1].lstrip()\n",
    "        temp[1] = temp[1].rstrip()\n",
    "        temp[1] = temp[1].replace(\".\",\"\")\n",
    "        filter_values_str = filter_values_str + temp[0] + \":\" + temp[1] + \",\"\n",
    "    filter_values_str = filter_values_str[:-1]\n",
    "    filter_values_str = \"{\"+filter_values_str+\"}\"\n",
    "    print(filter_values_str)"
   ]
  },
  {
   "source": [
    "## Variables"
   ],
   "cell_type": "markdown",
   "metadata": {}
  },
  {
   "cell_type": "code",
   "execution_count": 20,
   "metadata": {},
   "outputs": [],
   "source": [
    "server = config[\"server_connection\"][\"server\"] # Enter site in format tableau.company.com without the https before it\n",
    "site_content_url = config[\"server_connection\"][\"site\"] # This can be found from the URL of the content and if using the Default site then this will be blank\n",
    "api_ver = config[\"server_connection\"][\"api\"] # This can be found from the Tableau Server REST API reference\n",
    "URL = \"https://{}/api/{}\".format(server, api_ver)"
   ]
  },
  {
   "source": [
    "## Checking login method and signing into Server"
   ],
   "cell_type": "markdown",
   "metadata": {}
  },
  {
   "cell_type": "code",
   "execution_count": 21,
   "metadata": {},
   "outputs": [
    {
     "output_type": "stream",
     "name": "stdout",
     "text": [
      "\t\tUser signed in successfully!\n"
     ]
    }
   ],
   "source": [
    "if config[\"server_connection\"][\"loginmethod\"] == 'PAT':\n",
    "    username = config[\"auth_details\"][\"authname\"]\n",
    "    if username == \"\":\n",
    "        print(\"No username mentioned in config file!! Please enter username in config file and try again\")\n",
    "        exit()\n",
    "    password = config[\"auth_details\"][\"auth\"]\n",
    "    if password == \"\":\n",
    "        password = getpass(\"Enter your PAT for the Tableau Server: \")\n",
    "    site_id, token = sign_in_pat(username, password, site_content_url)\n",
    "    if token == 0:\n",
    "        print(\"ZERO TOKEN A\")\n",
    "        exit()\n",
    "elif config[\"server_connection\"][\"loginmethod\"] == 'Local':\n",
    "    username = config[\"auth_details\"][\"authname\"]\n",
    "    if username == \"\":\n",
    "        print(\"No username mentioned in config file!! Please enter username in config file and try again\")\n",
    "    password = config[\"auth_details\"][\"auth\"]\n",
    "    if password == \"\":\n",
    "        password = getpass(\"Enter your password for the Tableau Server: \")\n",
    "    site_id, token = sign_in(username, password, site_content_url)\n",
    "    if token == 0:\n",
    "        print(\"ZERO TOKEN B\")\n",
    "        exit()\n",
    "else:\n",
    "    print(\"Incorrect login method specified in config file under server_connection > loginmethod! Login method has to be Local or PAT\")\n",
    "    exit()"
   ]
  },
  {
   "source": [
    "## Find workbook id from name"
   ],
   "cell_type": "markdown",
   "metadata": {}
  },
  {
   "cell_type": "code",
   "execution_count": 22,
   "metadata": {},
   "outputs": [
    {
     "output_type": "stream",
     "name": "stdout",
     "text": [
      "\t\tQueried workbook name successfully!\n"
     ]
    }
   ],
   "source": [
    "workbook_response = query_workbooks_site(site_id, token, urllib.parse.quote_plus(config[\"workbook_details\"][\"workbookname\"]))"
   ]
  },
  {
   "source": [
    "## Find filter_values from view"
   ],
   "cell_type": "markdown",
   "metadata": {}
  },
  {
   "cell_type": "code",
   "execution_count": 24,
   "metadata": {},
   "outputs": [
    {
     "output_type": "stream",
     "name": "stdout",
     "text": [
      "No filters applied\n"
     ]
    }
   ],
   "source": [
    "if config[\"filter_value_list\"][\"filter_value_list_workbook\"] == \"\":\n",
    "    print(\"No filters applied\")\n",
    "else:\n",
    "    print(\"Filters being applied...\")\n",
    "    filter_value_list = parse_filter_list(site_id, token, config[\"filter_value_list\"][\"filter_value_list_workbook\"], config[\"filter_value_list\"][\"filter_value_list_view\"])"
   ]
  },
  {
   "source": [
    "## Iterate over views and create PDFs"
   ],
   "cell_type": "markdown",
   "metadata": {}
  },
  {
   "cell_type": "code",
   "execution_count": 29,
   "metadata": {},
   "outputs": [
    {
     "output_type": "stream",
     "name": "stdout",
     "text": [
      "Iterating over views with no filters...\n",
      "\t\tQueried view image successfully!\n",
      "Developing PDF for All...\n",
      "Saved pdf for filter_value All as C:\\Users\\prave\\Downloads\\202114-All.pdf\n"
     ]
    }
   ],
   "source": [
    "datepart_filename = create_date_filename()\n",
    "curr_week_number = datetime.date.today().isocalendar()[1] - 1\n",
    "if config[\"filter_value_list\"][\"filter_value_list_workbook\"] == \"\":\n",
    "    print(\"Iterating over views with no filters...\")\n",
    "    iterate_views_unfiltered(site_id, token, query_workbook(site_id, token, workbook_response['workbooks']['workbook'][0]['id'], gen_views_list(config[\"workbook_details\"][\"viewnames\"]))[0], curr_week_number, config[\"workbook_details\"][\"download_loc\"], datepart_filename)\n",
    "else:\n",
    "    print(\"Iterating over views with filters applied...\")\n",
    "    iterate_views(site_id, token, query_workbook(site_id, token, workbook_response['workbooks']['workbook'][0]['id'], gen_views_list(config[\"workbook_details\"][\"viewnames\"]))[0], query_workbook(site_id, token, workbook_response['workbooks']['workbook'][0]['id'], gen_views_list(config[\"workbook_details\"][\"applyfilters\"]))[0], filter_value_list, curr_week_number,  config[\"workbook_details\"][\"download_loc\"], datepart_filename)"
   ]
  },
  {
   "source": [
    "## Close files and sign out of server"
   ],
   "cell_type": "markdown",
   "metadata": {}
  },
  {
   "cell_type": "code",
   "execution_count": 30,
   "metadata": {},
   "outputs": [
    {
     "output_type": "stream",
     "name": "stdout",
     "text": [
      "\t\tUser signed out successfully!\n"
     ]
    },
    {
     "output_type": "execute_result",
     "data": {
      "text/plain": [
       "1"
      ]
     },
     "metadata": {},
     "execution_count": 30
    }
   ],
   "source": [
    "log_file.close()\n",
    "sign_out(site_id, token)"
   ]
  },
  {
   "cell_type": "code",
   "execution_count": null,
   "metadata": {},
   "outputs": [],
   "source": []
  }
 ]
}